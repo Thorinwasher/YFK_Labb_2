{
 "cells": [
  {
   "cell_type": "markdown",
   "id": "3723b86d",
   "metadata": {},
   "source": [
    "# Labb 2 :)\n",
    "Testerier"
   ]
  },
  {
   "cell_type": "code",
   "execution_count": null,
   "id": "e1ee2f04",
   "metadata": {},
   "outputs": [],
   "source": []
  },
  {
   "cell_type": "code",
   "execution_count": null,
   "id": "4d9300ef",
   "metadata": {},
   "outputs": [],
   "source": []
  }
 ],
 "metadata": {
  "kernelspec": {
   "display_name": "Python 3",
   "language": "python",
   "name": "python3"
  },
  "language_info": {
   "codemirror_mode": {
    "name": "ipython",
    "version": 3
   },
   "file_extension": ".py",
   "mimetype": "text/x-python",
   "name": "python",
   "nbconvert_exporter": "python",
   "pygments_lexer": "ipython3",
   "version": "3.8.5"
  }
 },
 "nbformat": 4,
 "nbformat_minor": 5
}
